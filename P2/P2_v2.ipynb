{
 "cells": [
  {
   "cell_type": "markdown",
   "metadata": {},
   "source": [
    "# Introduction to bioinformatics - project no. 2\n",
    "## CpG islands and DNA Methylation analysis"
   ]
  },
  {
   "cell_type": "markdown",
   "metadata": {},
   "source": [
    "## Necessary libraries"
   ]
  },
  {
   "cell_type": "code",
   "execution_count": 1,
   "metadata": {},
   "outputs": [],
   "source": [
    "import pandas as pd\n",
    "import copy\n",
    "import time"
   ]
  },
  {
   "cell_type": "markdown",
   "metadata": {},
   "source": [
    "## Data load"
   ]
  },
  {
   "cell_type": "code",
   "execution_count": 7,
   "metadata": {},
   "outputs": [],
   "source": [
    "cpg_islands = pd.read_csv(\"data/cpgIslandExt.txt\", sep='\\t', header=None)\n",
    "dna_methylation = pd.read_csv(\"data/wgEncodeHaibMethyl450A549Etoh02SitesRep1.bed\", sep='\\t', header=None)\n",
    "chromosomes_sizes = pd.read_csv(\"data/hg19.chrom.sizes.txt\", sep='\\t', header=None)"
   ]
  },
  {
   "cell_type": "code",
   "execution_count": 8,
   "metadata": {},
   "outputs": [
    {
     "data": {
      "text/html": [
       "<div>\n",
       "<style scoped>\n",
       "    .dataframe tbody tr th:only-of-type {\n",
       "        vertical-align: middle;\n",
       "    }\n",
       "\n",
       "    .dataframe tbody tr th {\n",
       "        vertical-align: top;\n",
       "    }\n",
       "\n",
       "    .dataframe thead th {\n",
       "        text-align: right;\n",
       "    }\n",
       "</style>\n",
       "<table border=\"1\" class=\"dataframe\">\n",
       "  <thead>\n",
       "    <tr style=\"text-align: right;\">\n",
       "      <th></th>\n",
       "      <th>0</th>\n",
       "      <th>1</th>\n",
       "      <th>2</th>\n",
       "      <th>3</th>\n",
       "      <th>4</th>\n",
       "      <th>5</th>\n",
       "      <th>6</th>\n",
       "      <th>7</th>\n",
       "      <th>8</th>\n",
       "    </tr>\n",
       "  </thead>\n",
       "  <tbody>\n",
       "    <tr>\n",
       "      <th>0</th>\n",
       "      <td>chr16</td>\n",
       "      <td>53468112</td>\n",
       "      <td>53468162</td>\n",
       "      <td>cg00000029</td>\n",
       "      <td>486</td>\n",
       "      <td>+</td>\n",
       "      <td>53468112</td>\n",
       "      <td>53468162</td>\n",
       "      <td>128,0,128</td>\n",
       "    </tr>\n",
       "    <tr>\n",
       "      <th>1</th>\n",
       "      <td>chr3</td>\n",
       "      <td>37459206</td>\n",
       "      <td>37459256</td>\n",
       "      <td>cg00000108</td>\n",
       "      <td>916</td>\n",
       "      <td>+</td>\n",
       "      <td>37459206</td>\n",
       "      <td>37459256</td>\n",
       "      <td>255,127,0</td>\n",
       "    </tr>\n",
       "    <tr>\n",
       "      <th>2</th>\n",
       "      <td>chr3</td>\n",
       "      <td>171916037</td>\n",
       "      <td>171916087</td>\n",
       "      <td>cg00000109</td>\n",
       "      <td>815</td>\n",
       "      <td>+</td>\n",
       "      <td>171916037</td>\n",
       "      <td>171916087</td>\n",
       "      <td>255,127,0</td>\n",
       "    </tr>\n",
       "    <tr>\n",
       "      <th>3</th>\n",
       "      <td>chr1</td>\n",
       "      <td>91194674</td>\n",
       "      <td>91194724</td>\n",
       "      <td>cg00000165</td>\n",
       "      <td>806</td>\n",
       "      <td>-</td>\n",
       "      <td>91194674</td>\n",
       "      <td>91194724</td>\n",
       "      <td>255,127,0</td>\n",
       "    </tr>\n",
       "    <tr>\n",
       "      <th>4</th>\n",
       "      <td>chr8</td>\n",
       "      <td>42263294</td>\n",
       "      <td>42263344</td>\n",
       "      <td>cg00000236</td>\n",
       "      <td>843</td>\n",
       "      <td>-</td>\n",
       "      <td>42263294</td>\n",
       "      <td>42263344</td>\n",
       "      <td>255,127,0</td>\n",
       "    </tr>\n",
       "  </tbody>\n",
       "</table>\n",
       "</div>"
      ],
      "text/plain": [
       "       0          1          2           3    4  5          6          7  \\\n",
       "0  chr16   53468112   53468162  cg00000029  486  +   53468112   53468162   \n",
       "1   chr3   37459206   37459256  cg00000108  916  +   37459206   37459256   \n",
       "2   chr3  171916037  171916087  cg00000109  815  +  171916037  171916087   \n",
       "3   chr1   91194674   91194724  cg00000165  806  -   91194674   91194724   \n",
       "4   chr8   42263294   42263344  cg00000236  843  -   42263294   42263344   \n",
       "\n",
       "           8  \n",
       "0  128,0,128  \n",
       "1  255,127,0  \n",
       "2  255,127,0  \n",
       "3  255,127,0  \n",
       "4  255,127,0  "
      ]
     },
     "execution_count": 8,
     "metadata": {},
     "output_type": "execute_result"
    }
   ],
   "source": [
    "dna_methylation.head()"
   ]
  },
  {
   "cell_type": "markdown",
   "metadata": {},
   "source": [
    "## Data preprocessing"
   ]
  },
  {
   "cell_type": "code",
   "execution_count": 9,
   "metadata": {},
   "outputs": [],
   "source": [
    "dna_methylation = dna_methylation.loc[:,0:2]\n",
    "dna_methylation.columns = [\"chr_nr\", \"start\", \"stop\"]\n",
    "dna_methylation['location'] = ((dna_methylation['stop']-dna_methylation['start'])/2 +\n",
    "                            dna_methylation['start']).astype('int32')\n",
    "\n",
    "chromosomes_sizes.columns = ['chr_nr', 'size']\n",
    "chromosomes_sizes.set_index('chr_nr', inplace=True)\n",
    "\n",
    "cpg_islands = cpg_islands.loc[:, 1:3]\n",
    "cpg_islands.columns = ['chr_nr', 'start', 'stop']"
   ]
  },
  {
   "cell_type": "markdown",
   "metadata": {},
   "source": [
    "## Part 2"
   ]
  },
  {
   "cell_type": "code",
   "execution_count": 10,
   "metadata": {},
   "outputs": [],
   "source": [
    "chromosomes_indexes = [('chr' + str(i)) for i in range(1, 23)]\n",
    "chromosomes = [cpg_islands[cpg_islands.chr_nr == i].sort_values('start').reset_index() for i in chromosomes_indexes]"
   ]
  },
  {
   "cell_type": "code",
   "execution_count": 11,
   "metadata": {},
   "outputs": [],
   "source": [
    "def one_type_border(curr_end_A, curr_start_B, leap_length):\n",
    "    \"\"\"\n",
    "    return: end of one segment, start of another segment\n",
    "    \"\"\"\n",
    "    if curr_end_A + leap_length < curr_start_B - leap_length:\n",
    "        return curr_end_A + leap_length, curr_start_B - leap_length\n",
    "    else:\n",
    "        return None"
   ]
  },
  {
   "cell_type": "code",
   "execution_count": 7,
   "metadata": {},
   "outputs": [
    {
     "name": "stdout",
     "output_type": "stream",
     "text": [
      "Mon Jan 20 03:30:06 2020\n",
      "chr_nr=0\n"
     ]
    },
    {
     "ename": "KeyboardInterrupt",
     "evalue": "",
     "output_type": "error",
     "traceback": [
      "\u001b[0;31m---------------------------------------------------------------------------\u001b[0m",
      "\u001b[0;31mKeyboardInterrupt\u001b[0m                         Traceback (most recent call last)",
      "\u001b[0;32m<ipython-input-7-9803bc739c1b>\u001b[0m in \u001b[0;36m<module>\u001b[0;34m\u001b[0m\n\u001b[1;32m     53\u001b[0m         \u001b[0;32melse\u001b[0m\u001b[0;34m:\u001b[0m\u001b[0;34m\u001b[0m\u001b[0;34m\u001b[0m\u001b[0m\n\u001b[1;32m     54\u001b[0m \u001b[0;31m#             print(\"\\nWyspa\")\u001b[0m\u001b[0;34m\u001b[0m\u001b[0;34m\u001b[0m\u001b[0;34m\u001b[0m\u001b[0m\n\u001b[0;32m---> 55\u001b[0;31m             \u001b[0mcurr_end_A\u001b[0m \u001b[0;34m=\u001b[0m \u001b[0mchromosome\u001b[0m\u001b[0;34m[\u001b[0m\u001b[0;34m'stop'\u001b[0m\u001b[0;34m]\u001b[0m\u001b[0;34m[\u001b[0m\u001b[0mj\u001b[0m\u001b[0;34m-\u001b[0m\u001b[0;36m1\u001b[0m\u001b[0;34m]\u001b[0m\u001b[0;34m\u001b[0m\u001b[0;34m\u001b[0m\u001b[0m\n\u001b[0m\u001b[1;32m     56\u001b[0m             \u001b[0mcurr_start_B\u001b[0m \u001b[0;34m=\u001b[0m \u001b[0mchromosome\u001b[0m\u001b[0;34m[\u001b[0m\u001b[0;34m'start'\u001b[0m\u001b[0;34m]\u001b[0m\u001b[0;34m[\u001b[0m\u001b[0mj\u001b[0m\u001b[0;34m]\u001b[0m\u001b[0;34m\u001b[0m\u001b[0;34m\u001b[0m\u001b[0m\n\u001b[1;32m     57\u001b[0m \u001b[0;31m#             print(\"Curr:\", curr_end_A, curr_start_B)\u001b[0m\u001b[0;34m\u001b[0m\u001b[0;34m\u001b[0m\u001b[0;34m\u001b[0m\u001b[0m\n",
      "\u001b[0;32m~/.virtualenvs/p7def/lib/python3.7/site-packages/pandas/core/series.py\u001b[0m in \u001b[0;36m__getitem__\u001b[0;34m(self, key)\u001b[0m\n\u001b[1;32m    866\u001b[0m         \u001b[0mkey\u001b[0m \u001b[0;34m=\u001b[0m \u001b[0mcom\u001b[0m\u001b[0;34m.\u001b[0m\u001b[0mapply_if_callable\u001b[0m\u001b[0;34m(\u001b[0m\u001b[0mkey\u001b[0m\u001b[0;34m,\u001b[0m \u001b[0mself\u001b[0m\u001b[0;34m)\u001b[0m\u001b[0;34m\u001b[0m\u001b[0;34m\u001b[0m\u001b[0m\n\u001b[1;32m    867\u001b[0m         \u001b[0;32mtry\u001b[0m\u001b[0;34m:\u001b[0m\u001b[0;34m\u001b[0m\u001b[0;34m\u001b[0m\u001b[0m\n\u001b[0;32m--> 868\u001b[0;31m             \u001b[0mresult\u001b[0m \u001b[0;34m=\u001b[0m \u001b[0mself\u001b[0m\u001b[0;34m.\u001b[0m\u001b[0mindex\u001b[0m\u001b[0;34m.\u001b[0m\u001b[0mget_value\u001b[0m\u001b[0;34m(\u001b[0m\u001b[0mself\u001b[0m\u001b[0;34m,\u001b[0m \u001b[0mkey\u001b[0m\u001b[0;34m)\u001b[0m\u001b[0;34m\u001b[0m\u001b[0;34m\u001b[0m\u001b[0m\n\u001b[0m\u001b[1;32m    869\u001b[0m \u001b[0;34m\u001b[0m\u001b[0m\n\u001b[1;32m    870\u001b[0m             \u001b[0;32mif\u001b[0m \u001b[0;32mnot\u001b[0m \u001b[0mis_scalar\u001b[0m\u001b[0;34m(\u001b[0m\u001b[0mresult\u001b[0m\u001b[0;34m)\u001b[0m\u001b[0;34m:\u001b[0m\u001b[0;34m\u001b[0m\u001b[0;34m\u001b[0m\u001b[0m\n",
      "\u001b[0;32m~/.virtualenvs/p7def/lib/python3.7/site-packages/pandas/core/indexes/base.py\u001b[0m in \u001b[0;36mget_value\u001b[0;34m(self, series, key)\u001b[0m\n\u001b[1;32m   4368\u001b[0m \u001b[0;34m\u001b[0m\u001b[0m\n\u001b[1;32m   4369\u001b[0m         \u001b[0ms\u001b[0m \u001b[0;34m=\u001b[0m \u001b[0mcom\u001b[0m\u001b[0;34m.\u001b[0m\u001b[0mvalues_from_object\u001b[0m\u001b[0;34m(\u001b[0m\u001b[0mseries\u001b[0m\u001b[0;34m)\u001b[0m\u001b[0;34m\u001b[0m\u001b[0;34m\u001b[0m\u001b[0m\n\u001b[0;32m-> 4370\u001b[0;31m         \u001b[0mk\u001b[0m \u001b[0;34m=\u001b[0m \u001b[0mcom\u001b[0m\u001b[0;34m.\u001b[0m\u001b[0mvalues_from_object\u001b[0m\u001b[0;34m(\u001b[0m\u001b[0mkey\u001b[0m\u001b[0;34m)\u001b[0m\u001b[0;34m\u001b[0m\u001b[0;34m\u001b[0m\u001b[0m\n\u001b[0m\u001b[1;32m   4371\u001b[0m \u001b[0;34m\u001b[0m\u001b[0m\n\u001b[1;32m   4372\u001b[0m         \u001b[0mk\u001b[0m \u001b[0;34m=\u001b[0m \u001b[0mself\u001b[0m\u001b[0;34m.\u001b[0m\u001b[0m_convert_scalar_indexer\u001b[0m\u001b[0;34m(\u001b[0m\u001b[0mk\u001b[0m\u001b[0;34m,\u001b[0m \u001b[0mkind\u001b[0m\u001b[0;34m=\u001b[0m\u001b[0;34m'getitem'\u001b[0m\u001b[0;34m)\u001b[0m\u001b[0;34m\u001b[0m\u001b[0;34m\u001b[0m\u001b[0m\n",
      "\u001b[0;31mKeyboardInterrupt\u001b[0m: "
     ]
    }
   ],
   "source": [
    "islands = pd.DataFrame(columns = ['chr_nr', 'start', 'stop'])\n",
    "shores = pd.DataFrame(columns = ['chr_nr', 'start', 'stop'])\n",
    "shelves = pd.DataFrame(columns = ['chr_nr', 'start', 'stop'])\n",
    "seas = pd.DataFrame(columns = ['chr_nr', 'start', 'stop'])\n",
    "df_list = [islands, shores, shelves, seas]\n",
    "nrow = [0] * len(df_list)\n",
    "leap_length_start = [0, 2000, 4000, 4000]\n",
    "leap_length = [0, 2000, 2000, 1000000]\n",
    "\n",
    "print(time.asctime(time.localtime(time.time())))\n",
    "for k, chromosome in enumerate(chromosomes):\n",
    "    \n",
    "    n = chromosome.shape[0]\n",
    "#     n = 100\n",
    "#     print(n)\n",
    "    print(f\"chr_nr={k}\")\n",
    "    for j in range(n):\n",
    "#         print(f\"{j} nrow: {nrow}\")\n",
    "        \"\"\"\n",
    "        j - j-ta wyspa na k-tym chromosomie\n",
    "        n - liczba wysp\n",
    "        \"\"\"\n",
    "        # ------------------------------------------\n",
    "        # Przypadek pierwszej wyspy. Co się dzieje przed nią.\n",
    "        if j == 0:\n",
    "            curr_start_B = chromosome['start'][j]\n",
    "            for i, el in enumerate(df_list):\n",
    "                step = curr_start_B - leap_length[i]\n",
    "#                 print(\"Początek wyspy:\", step)\n",
    "                if step <= 0:\n",
    "                    el.loc[nrow[i]] = (chromosomes_indexes[k], 0, curr_start_B)\n",
    "                    nrow[i] += 1\n",
    "                    break\n",
    "                else:\n",
    "                    el.loc[nrow[i]] = (chromosomes_indexes[k], step, curr_start_B)\n",
    "                    nrow[i] += 1\n",
    "                    curr_start_B = step\n",
    "        # ------------------------------------------\n",
    "        # Przypadek ostatniej wyspy. Co się dzieje za nią.\n",
    "        elif j == n:\n",
    "            curr_end_A = chromosome['stop'][j]\n",
    "#             print(\"\\nOstatnia wyspa\")\n",
    "            for i, el in enumerate(df_list):\n",
    "                step = curr_end_A + leap_length[i]\n",
    "                if step >= chromosomes_sizes['size'][k]:\n",
    "                    el.loc[nrow[i]] = (chromosomes_indexes[k], curr_end_A, chromosomes_sizes['size'][k])\n",
    "                    break\n",
    "                else:\n",
    "                    el.loc[nrow[i]] = (chromosomes_indexes[k], curr_end_A, step)\n",
    "                    curr_end_A = step\n",
    "        # -----------------------------------------\n",
    "        # Wszystkie pozostałe wyspy wewnątrz. Co się dzieje pomiędzy nimi.\n",
    "        else:\n",
    "#             print(\"\\nWyspa\")\n",
    "            curr_end_A = chromosome['stop'][j-1]\n",
    "            curr_start_B = chromosome['start'][j]\n",
    "#             print(\"Curr:\", curr_end_A, curr_start_B)\n",
    "#             print(enumerate(df_list, 1))\n",
    "            for i, el in enumerate(df_list):\n",
    "#                 print(len(df_list), end=\"\")\n",
    "                result = one_type_border(curr_end_A, curr_start_B, leap_length[i])\n",
    "#                 print(result)\n",
    "                if result is None:\n",
    "                    # zajmujemy całą przestrzeń pomiędzy zakresami, bo się zazębiają. \n",
    "                    el.loc[nrow[i]] = (chromosomes_indexes[k], curr_end_A, curr_start_B)\n",
    "                    nrow[i] += 1\n",
    "                    # przerywamy bo nie ma już miejsca na inne elementy pomiędzy wyspami\n",
    "                    break\n",
    "                else:\n",
    "                    el.loc[nrow[i]] = (chromosomes_indexes[k], curr_end_A, result[0])\n",
    "                    nrow[i] += 1\n",
    "                    \n",
    "                    el.loc[nrow[i]] = (chromosomes_indexes[k],result[1], curr_start_B)\n",
    "                    nrow[i] += 1\n",
    "                    \n",
    "                    curr_end_A = result[0]\n",
    "                    curr_start_B = result[1]\n",
    "\n",
    "            #print(df_list[0])\n",
    "print(time.asctime(time.localtime(time.time())))"
   ]
  },
  {
   "cell_type": "code",
   "execution_count": null,
   "metadata": {},
   "outputs": [],
   "source": [
    "for i in df_list:\n",
    "    print(len(i))"
   ]
  },
  {
   "cell_type": "code",
   "execution_count": 29,
   "metadata": {},
   "outputs": [],
   "source": [
    "# cpg_islands.to_csv('islands_v2.csv')\n",
    "# df_list[1].to_csv('shores_v2.csv')\n",
    "# df_list[2].to_csv('shelves_v2.csv')\n",
    "# df_list[3].to_csv('seas_v2.csv')"
   ]
  },
  {
   "cell_type": "code",
   "execution_count": 12,
   "metadata": {},
   "outputs": [],
   "source": [
    "islands = pd.read_csv('islands_v2.csv')\n",
    "shores = pd.read_csv('shores_v2.csv')\n",
    "shelves = pd.read_csv('shelves_v2.csv')\n",
    "seas = pd.read_csv('seas_v2.csv')"
   ]
  },
  {
   "cell_type": "code",
   "execution_count": 13,
   "metadata": {},
   "outputs": [
    {
     "data": {
      "text/html": [
       "<div>\n",
       "<style scoped>\n",
       "    .dataframe tbody tr th:only-of-type {\n",
       "        vertical-align: middle;\n",
       "    }\n",
       "\n",
       "    .dataframe tbody tr th {\n",
       "        vertical-align: top;\n",
       "    }\n",
       "\n",
       "    .dataframe thead th {\n",
       "        text-align: right;\n",
       "    }\n",
       "</style>\n",
       "<table border=\"1\" class=\"dataframe\">\n",
       "  <thead>\n",
       "    <tr style=\"text-align: right;\">\n",
       "      <th></th>\n",
       "      <th>chr_nr</th>\n",
       "      <th>start</th>\n",
       "      <th>stop</th>\n",
       "      <th>location</th>\n",
       "    </tr>\n",
       "  </thead>\n",
       "  <tbody>\n",
       "    <tr>\n",
       "      <th>0</th>\n",
       "      <td>chr16</td>\n",
       "      <td>53468112</td>\n",
       "      <td>53468162</td>\n",
       "      <td>53468137</td>\n",
       "    </tr>\n",
       "    <tr>\n",
       "      <th>1</th>\n",
       "      <td>chr3</td>\n",
       "      <td>37459206</td>\n",
       "      <td>37459256</td>\n",
       "      <td>37459231</td>\n",
       "    </tr>\n",
       "    <tr>\n",
       "      <th>2</th>\n",
       "      <td>chr3</td>\n",
       "      <td>171916037</td>\n",
       "      <td>171916087</td>\n",
       "      <td>171916062</td>\n",
       "    </tr>\n",
       "    <tr>\n",
       "      <th>3</th>\n",
       "      <td>chr1</td>\n",
       "      <td>91194674</td>\n",
       "      <td>91194724</td>\n",
       "      <td>91194699</td>\n",
       "    </tr>\n",
       "    <tr>\n",
       "      <th>4</th>\n",
       "      <td>chr8</td>\n",
       "      <td>42263294</td>\n",
       "      <td>42263344</td>\n",
       "      <td>42263319</td>\n",
       "    </tr>\n",
       "  </tbody>\n",
       "</table>\n",
       "</div>"
      ],
      "text/plain": [
       "  chr_nr      start       stop   location\n",
       "0  chr16   53468112   53468162   53468137\n",
       "1   chr3   37459206   37459256   37459231\n",
       "2   chr3  171916037  171916087  171916062\n",
       "3   chr1   91194674   91194724   91194699\n",
       "4   chr8   42263294   42263344   42263319"
      ]
     },
     "execution_count": 13,
     "metadata": {},
     "output_type": "execute_result"
    }
   ],
   "source": [
    "dna_methylation.head()"
   ]
  },
  {
   "cell_type": "code",
   "execution_count": 14,
   "metadata": {},
   "outputs": [],
   "source": [
    "methylations_by_chr = []\n",
    "\n",
    "for i in chromosomes_indexes:\n",
    "    methylations_by_chr.append(dna_methylation[dna_methylation.chr_nr == i])"
   ]
  },
  {
   "cell_type": "code",
   "execution_count": 15,
   "metadata": {},
   "outputs": [],
   "source": [
    "from tqdm import tqdm"
   ]
  },
  {
   "cell_type": "code",
   "execution_count": 16,
   "metadata": {},
   "outputs": [
    {
     "data": {
      "text/plain": [
       "(46567, 4)"
      ]
     },
     "execution_count": 16,
     "metadata": {},
     "output_type": "execute_result"
    }
   ],
   "source": [
    "methylations_by_chr[0].shape"
   ]
  },
  {
   "cell_type": "code",
   "execution_count": 28,
   "metadata": {},
   "outputs": [
    {
     "name": "stderr",
     "output_type": "stream",
     "text": [
      "46567it [04:33, 170.24it/s]\n",
      "34501it [03:11, 180.20it/s]\n",
      "24996it [02:12, 188.08it/s]\n",
      "20276it [01:48, 186.91it/s]\n",
      "24168it [02:07, 189.54it/s]\n",
      "36438it [03:24, 178.56it/s]\n",
      "29844it [02:41, 185.35it/s]\n",
      "20787it [01:56, 178.32it/s]\n",
      "9736it [00:42, 231.74it/s]\n",
      "24212it [01:54, 211.20it/s]\n",
      "28654it [02:11, 218.60it/s]\n",
      "24385it [01:54, 212.20it/s]\n",
      "12175it [00:56, 216.21it/s]\n",
      "14987it [01:12, 208.14it/s]\n",
      "15146it [01:11, 210.91it/s]\n",
      "21876it [01:44, 209.09it/s]\n",
      "27775it [02:11, 211.31it/s]\n",
      "5889it [00:22, 265.80it/s]\n",
      "25449it [01:43, 244.99it/s]\n",
      "10302it [00:39, 263.61it/s]\n",
      "4205it [00:16, 252.41it/s]\n",
      "8502it [00:33, 252.37it/s]\n"
     ]
    }
   ],
   "source": [
    "islands_count = 0\n",
    "shores_count = 0\n",
    "shelves_count = 0\n",
    "seas_count = 0\n",
    "count_list = [islands_count, shores_count, shelves_count, seas_count]\n",
    "\n",
    "for i, el in enumerate(methylations_by_chr):\n",
    "    seas_met = seas[seas.chr_nr == chromosomes_indexes[i]]\n",
    "    shelves_met = shelves[shelves.chr_nr == chromosomes_indexes[i]]\n",
    "    islands_met = islands[islands.chr_nr == chromosomes_indexes[i]]\n",
    "    shores_met = shores[shores.chr_nr == chromosomes_indexes[i]]\n",
    "    met_list = [islands_met, shores_met, shelves_met, seas_met]\n",
    "    \n",
    "    \n",
    "    for j, met in tqdm(el.iterrows()):\n",
    "        for k, df in enumerate(met_list):\n",
    "            met_query = df[df.start <= met.location].sort_values('stop')\n",
    "            if met_query.shape[0] >= 1 and met_query.iloc[met_query.shape[0] - 1].stop >= met.location:\n",
    "                count_list[k] += 1\n",
    "                break"
   ]
  },
  {
   "cell_type": "code",
   "execution_count": 29,
   "metadata": {},
   "outputs": [],
   "source": [
    "import seaborn as sns"
   ]
  },
  {
   "cell_type": "code",
   "execution_count": 30,
   "metadata": {},
   "outputs": [
    {
     "data": {
      "text/html": [
       "<div>\n",
       "<style scoped>\n",
       "    .dataframe tbody tr th:only-of-type {\n",
       "        vertical-align: middle;\n",
       "    }\n",
       "\n",
       "    .dataframe tbody tr th {\n",
       "        vertical-align: top;\n",
       "    }\n",
       "\n",
       "    .dataframe thead th {\n",
       "        text-align: right;\n",
       "    }\n",
       "</style>\n",
       "<table border=\"1\" class=\"dataframe\">\n",
       "  <thead>\n",
       "    <tr style=\"text-align: right;\">\n",
       "      <th></th>\n",
       "      <th>count_type</th>\n",
       "      <th>count</th>\n",
       "    </tr>\n",
       "  </thead>\n",
       "  <tbody>\n",
       "    <tr>\n",
       "      <th>0</th>\n",
       "      <td>islands</td>\n",
       "      <td>132325</td>\n",
       "    </tr>\n",
       "    <tr>\n",
       "      <th>1</th>\n",
       "      <td>shores</td>\n",
       "      <td>122665</td>\n",
       "    </tr>\n",
       "    <tr>\n",
       "      <th>2</th>\n",
       "      <td>shelves</td>\n",
       "      <td>45432</td>\n",
       "    </tr>\n",
       "    <tr>\n",
       "      <th>3</th>\n",
       "      <td>seas</td>\n",
       "      <td>169364</td>\n",
       "    </tr>\n",
       "  </tbody>\n",
       "</table>\n",
       "</div>"
      ],
      "text/plain": [
       "  count_type   count\n",
       "0    islands  132325\n",
       "1     shores  122665\n",
       "2    shelves   45432\n",
       "3       seas  169364"
      ]
     },
     "execution_count": 30,
     "metadata": {},
     "output_type": "execute_result"
    }
   ],
   "source": [
    "plot_data = pd.DataFrame({\n",
    "    'count_type': ['islands', 'shores', 'shelves', 'seas'],\n",
    "    'count': count_list\n",
    "})\n",
    "plot_data.to_csv('results_v2.csv')\n",
    "plot_data"
   ]
  },
  {
   "cell_type": "code",
   "execution_count": 31,
   "metadata": {},
   "outputs": [
    {
     "data": {
      "text/plain": [
       "<matplotlib.axes._subplots.AxesSubplot at 0x7fa9c1630710>"
      ]
     },
     "execution_count": 31,
     "metadata": {},
     "output_type": "execute_result"
    },
    {
     "data": {
      "image/png": "[encoded data removed]",
      "text/plain": [
       "<Figure size 432x288 with 1 Axes>"
      ]
     },
     "metadata": {},
     "output_type": "display_data"
    }
   ],
   "source": [
    "sns.set(style=\"whitegrid\")\n",
    "sns.barplot(data=plot_data, x='count_type', y='count')"
   ]
  }
 ],
 "metadata": {
  "kernelspec": {
   "display_name": "Python 3",
   "language": "python",
   "name": "python3"
  },
  "language_info": {
   "codemirror_mode": {
    "name": "ipython",
    "version": 3
   },
   "file_extension": ".py",
   "mimetype": "text/x-python",
   "name": "python",
   "nbconvert_exporter": "python",
   "pygments_lexer": "ipython3",
   "version": "3.7.3"
  }
 },
 "nbformat": 4,
 "nbformat_minor": 4
}
