{
 "cells": [
  {
   "cell_type": "code",
   "execution_count": 4,
   "metadata": {},
   "outputs": [],
   "source": [
    "from NW_alignment_algorithm import Needleman_Wunsch"
   ]
  },
  {
   "cell_type": "code",
   "execution_count": 5,
   "metadata": {},
   "outputs": [],
   "source": [
    "import unittest\n",
    "\n",
    "class Needleman_Wunsch_Tests(unittest.TestCase):\n",
    "    def check_score(self, algo, correct, seq_a, seq_b):\n",
    "        algo.set_input_sequences(seq_a, seq_b)\n",
    "        self.assertEqual(algo.compute_score(), correct)\n",
    "        \n",
    "    def test_score(self):\n",
    "        algo = Needleman_Wunsch()\n",
    "        self.check_score(algo, 23, \"Radom\", \"Radoom\")\n",
    "        self.check_score(algo, 9, \"Alan\", \"Dolan\")\n",
    "        \n",
    "        algo = Needleman_Wunsch(gap=-7, same=6)\n",
    "        self.check_score(algo, 23, \"Radom\", \"Radoom\")\n",
    "        self.check_score(algo, 6, \"Alan\", \"Dolan\")\n",
    "\n",
    "    def check_matrix_initialization(self, correct_shape, first_row, first_column, seq_a, seq_b):\n",
    "        algo = Needleman_Wunsch()\n",
    "        algo.set_input_sequences(seq_a, seq_b)\n",
    "        algo.compute_algorithm_matrix()\n",
    "        self.assertEqual(algo.mt.shape, correct_shape)\n",
    "        self.assertCountEqual(algo.mt[0,:], first_row)\n",
    "        self.assertCountEqual(algo.mt[:,0], first_column)\n",
    "        \n",
    "    def test_matrix_initialization(self):\n",
    "        self.check_matrix_initialization((6,7), [0, -2, -4, -6, -8, -10, -12], [0, -2, -4, -6, -8, -10], \"Radom\", \"Radoom\")\n",
    "        self.check_matrix_initialization((5,6), [0, -2, -4, -6, -8, -10], [0, -2, -4, -6, -8], \"Alan\", \"Dolan\")\n",
    "        \n",
    "    def check_status_init(self, algo):\n",
    "        self.assertEqual(algo.is_data_initialized, False)\n",
    "        self.assertEqual(algo.is_matrix_computed, False)\n",
    "        self.assertEqual(algo.is_path_computed, False)\n",
    "        \n",
    "    def check_status_flow(self, algo, seq_a, seq_b):        \n",
    "        algo.set_input_sequences(seq_a, seq_b)\n",
    "        self.assertEqual(algo.is_data_initialized, True)\n",
    "        self.assertEqual(algo.is_matrix_computed, False)\n",
    "        self.assertEqual(algo.is_path_computed, False)\n",
    "        \n",
    "        algo.compute_algorithm_matrix()\n",
    "        self.assertEqual(algo.is_matrix_computed, True)\n",
    "        self.assertEqual(algo.is_data_initialized, True)\n",
    "        self.assertEqual(algo.is_path_computed, False)\n",
    "        \n",
    "        algo.compute_paths()\n",
    "        self.assertEqual(algo.is_matrix_computed, True)\n",
    "        self.assertEqual(algo.is_data_initialized, True)\n",
    "        self.assertEqual(algo.is_path_computed, True)\n",
    "        \n",
    "    def test_status_flow(self):\n",
    "        algo = Needleman_Wunsch()\n",
    "        self.check_status_flow(algo, \"Radom\", \"Radoom\")\n",
    "        self.check_status_flow(algo, \"Alan\", \"Dolan\")\n",
    "        self.check_status_flow(algo, \"Mienio\", \"Wiecio\")"
   ]
  },
  {
   "cell_type": "code",
   "execution_count": 6,
   "metadata": {},
   "outputs": [
    {
     "name": "stdout",
     "output_type": "stream",
     "text": [
      "Rad-om\n",
      "Radoom\n",
      "\n",
      "Rado-m\n",
      "Radoom\n",
      "\n",
      "\n",
      "A--lan\n",
      "-Dolan\n",
      "\n",
      "-A-lan\n",
      "D-olan\n",
      "\n",
      "--Alan\n",
      "Do-lan\n",
      "\n",
      "\n",
      "M-ien-io\n",
      "-Wie-cio\n",
      "\n",
      "-Mien-io\n",
      "W-ie-cio\n",
      "\n",
      "M-ie-nio\n",
      "-Wiec-io\n",
      "\n",
      "-Mie-nio\n",
      "W-iec-io\n",
      "\n",
      "\n"
     ]
    }
   ],
   "source": [
    "test = Needleman_Wunsch_Tests()\n",
    "test.test_score()\n",
    "test.test_matrix_initialization()\n",
    "test.test_status_flow()"
   ]
  },
  {
   "cell_type": "code",
   "execution_count": null,
   "metadata": {},
   "outputs": [],
   "source": []
  }
 ],
 "metadata": {
  "kernelspec": {
   "display_name": "Python 3",
   "language": "python",
   "name": "python3"
  },
  "language_info": {
   "codemirror_mode": {
    "name": "ipython",
    "version": 3
   },
   "file_extension": ".py",
   "mimetype": "text/x-python",
   "name": "python",
   "nbconvert_exporter": "python",
   "pygments_lexer": "ipython3",
   "version": "3.7.3"
  }
 },
 "nbformat": 4,
 "nbformat_minor": 4
}
