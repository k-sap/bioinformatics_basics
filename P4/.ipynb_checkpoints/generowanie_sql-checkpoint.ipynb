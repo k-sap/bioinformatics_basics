{
 "cells": [
  {
   "cell_type": "code",
   "execution_count": null,
   "metadata": {},
   "outputs": [],
   "source": []
  },
  {
   "cell_type": "code",
   "execution_count": 226,
   "metadata": {},
   "outputs": [],
   "source": [
    "klasy = pd.read_csv(\"/home/ghost/Desktop/Legenda do danych.csv\")"
   ]
  },
  {
   "cell_type": "code",
   "execution_count": null,
   "metadata": {},
   "outputs": [],
   "source": [
    "klasy.shape"
   ]
  },
  {
   "cell_type": "code",
   "execution_count": null,
   "metadata": {},
   "outputs": [],
   "source": [
    "klasy['IpcCode'] = klasy['IpcCode'].astype('str')\n",
    "mask = klasy['IpcCode'].str.len() == 10\n",
    "klasy = klasy.loc[mask]"
   ]
  },
  {
   "cell_type": "code",
   "execution_count": null,
   "metadata": {},
   "outputs": [],
   "source": [
    "rt = \"\"\n",
    "for i in list(klasy.IpcCode):\n",
    "    rt += f\"INSERT INTO classes(class_name) VALUES ({i});\\n\""
   ]
  },
  {
   "cell_type": "code",
   "execution_count": null,
   "metadata": {},
   "outputs": [],
   "source": [
    "with open(\"insert_classes.sql\", \"w\") as f:\n",
    "    f.write(rt)"
   ]
  },
  {
   "cell_type": "code",
   "execution_count": null,
   "metadata": {},
   "outputs": [],
   "source": [
    "import os\n",
    "filesB1 = sorted(os.listdir(\"/media/ghost/shared_files/patents_pdf/OP_PDF/2018/B1\"))[1:20]\n",
    "filesY1 = sorted(os.listdir(\"/media/ghost/shared_files/patents_pdf/OP_PDF/2018/Y1\"))[1:20]"
   ]
  },
  {
   "cell_type": "code",
   "execution_count": null,
   "metadata": {},
   "outputs": [],
   "source": [
    "from random import randrange"
   ]
  },
  {
   "cell_type": "code",
   "execution_count": null,
   "metadata": {},
   "outputs": [],
   "source": [
    "rt_files = \"\"\n",
    "for i in list(filesB1):\n",
    "    rt_files += f\"INSERT INTO patent_applications(patent_id,type_id,status,pesel)VALUES ({i[:6]}, 1, {randrange(8)},84583748543);\\n\"\n",
    "for i in list(filesY1):\n",
    "    rt_files += f\"INSERT INTO patent_applications(patent_id,type_id,status,pesel)VALUES ({i[:5]}, 3, {randrange(8)},74512348540);\\n\"    "
   ]
  },
  {
   "cell_type": "code",
   "execution_count": null,
   "metadata": {},
   "outputs": [],
   "source": [
    "with open(\"insert_patent_applications.sql\", \"w\") as f:\n",
    "    f.write(rt_files)"
   ]
  }
 ],
 "metadata": {
  "kernelspec": {
   "display_name": "Python 3",
   "language": "python",
   "name": "python3"
  },
  "language_info": {
   "codemirror_mode": {
    "name": "ipython",
    "version": 3
   },
   "file_extension": ".py",
   "mimetype": "text/x-python",
   "name": "python",
   "nbconvert_exporter": "python",
   "pygments_lexer": "ipython3",
   "version": "3.7.3"
  }
 },
 "nbformat": 4,
 "nbformat_minor": 4
}
