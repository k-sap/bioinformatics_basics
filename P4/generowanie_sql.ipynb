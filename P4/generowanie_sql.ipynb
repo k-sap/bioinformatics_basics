{
 "cells": [
  {
   "cell_type": "code",
   "execution_count": 2,
   "metadata": {},
   "outputs": [],
   "source": [
    "import pandas as pd"
   ]
  },
  {
   "cell_type": "code",
   "execution_count": 3,
   "metadata": {},
   "outputs": [],
   "source": [
    "klasy = pd.read_csv(\"/home/ghost/Desktop/Legenda do danych.csv\")"
   ]
  },
  {
   "cell_type": "code",
   "execution_count": null,
   "metadata": {},
   "outputs": [],
   "source": [
    "klasy.shape"
   ]
  },
  {
   "cell_type": "code",
   "execution_count": 8,
   "metadata": {},
   "outputs": [
    {
     "data": {
      "text/plain": [
       "0        10\n",
       "1        10\n",
       "2        10\n",
       "3        10\n",
       "4        10\n",
       "5        10\n",
       "6        10\n",
       "7        10\n",
       "8        10\n",
       "9        10\n",
       "10       10\n",
       "11       10\n",
       "12       10\n",
       "13       10\n",
       "14       10\n",
       "15       10\n",
       "16       10\n",
       "17       10\n",
       "18       10\n",
       "19       10\n",
       "20       10\n",
       "21       10\n",
       "22       11\n",
       "23       10\n",
       "24       10\n",
       "25       10\n",
       "26       10\n",
       "27       10\n",
       "28       10\n",
       "29       10\n",
       "         ..\n",
       "59431    10\n",
       "59432    10\n",
       "59433    10\n",
       "59434    10\n",
       "59435    10\n",
       "59436    10\n",
       "59437    10\n",
       "59438    10\n",
       "59439    10\n",
       "59440    10\n",
       "59441    10\n",
       "59442    10\n",
       "59443    10\n",
       "59444    10\n",
       "59445    10\n",
       "59446    10\n",
       "59447    10\n",
       "59448    10\n",
       "59449    10\n",
       "59450    10\n",
       "59451    10\n",
       "59452    10\n",
       "59453    10\n",
       "59454    10\n",
       "59455    10\n",
       "59456    10\n",
       "59457    10\n",
       "59458    10\n",
       "59459    10\n",
       "59460    10\n",
       "Name: IpcCode, Length: 59461, dtype: int64"
      ]
     },
     "execution_count": 8,
     "metadata": {},
     "output_type": "execute_result"
    }
   ],
   "source": [
    "klasy['IpcCode'].str.len()"
   ]
  },
  {
   "cell_type": "code",
   "execution_count": null,
   "metadata": {},
   "outputs": [],
   "source": [
    "klasy['IpcCode'] = klasy['IpcCode'].astype('str')\n",
    "mask = klasy['IpcCode'].str.len() == 10\n",
    "klasy = klasy.loc[mask]"
   ]
  },
  {
   "cell_type": "code",
   "execution_count": null,
   "metadata": {},
   "outputs": [],
   "source": [
    "rt = \"\"\n",
    "for i in list(klasy.IpcCode):\n",
    "    rt += f\"INSERT INTO classes(class_name) VALUES ({i});\\n\""
   ]
  },
  {
   "cell_type": "code",
   "execution_count": null,
   "metadata": {},
   "outputs": [],
   "source": [
    "with open(\"insert_classes.sql\", \"w\") as f:\n",
    "    f.write(rt)"
   ]
  },
  {
   "cell_type": "code",
   "execution_count": null,
   "metadata": {},
   "outputs": [],
   "source": [
    "import os\n",
    "filesB1 = sorted(os.listdir(\"/media/ghost/shared_files/patents_pdf/OP_PDF/2018/B1\"))[1:20]\n",
    "filesY1 = sorted(os.listdir(\"/media/ghost/shared_files/patents_pdf/OP_PDF/2018/Y1\"))[1:20]"
   ]
  },
  {
   "cell_type": "code",
   "execution_count": null,
   "metadata": {},
   "outputs": [],
   "source": [
    "from random import randrange"
   ]
  },
  {
   "cell_type": "code",
   "execution_count": null,
   "metadata": {},
   "outputs": [],
   "source": [
    "rt_files = \"\"\n",
    "for i in list(filesB1):\n",
    "    rt_files += f\"INSERT INTO patent_applications(patent_id,type_id,status,pesel)VALUES ({i[:6]}, 1, {randrange(8)},84583748543);\\n\"\n",
    "for i in list(filesY1):\n",
    "    rt_files += f\"INSERT INTO patent_applications(patent_id,type_id,status,pesel)VALUES ({i[:5]}, 3, {randrange(8)},74512348540);\\n\"    "
   ]
  },
  {
   "cell_type": "code",
   "execution_count": null,
   "metadata": {},
   "outputs": [],
   "source": [
    "with open(\"insert_patent_applications.sql\", \"w\") as f:\n",
    "    f.write(rt_files)"
   ]
  },
  {
   "cell_type": "code",
   "execution_count": 9,
   "metadata": {},
   "outputs": [],
   "source": [
    "import torch"
   ]
  },
  {
   "cell_type": "code",
   "execution_count": 10,
   "metadata": {},
   "outputs": [],
   "source": [
    "kiz = torch.load(\"/home/ghost/Documents/PIiADs/PiAD_github/PIiAD/python_app/models/classes.pt\").keys()"
   ]
  },
  {
   "cell_type": "code",
   "execution_count": 20,
   "metadata": {},
   "outputs": [],
   "source": [
    "rt = \"INSERT INTO classes(class_name) VALUES \"\n",
    "for i in kiz:\n",
    "    rt += f\"('{i}'),\\n\""
   ]
  },
  {
   "cell_type": "code",
   "execution_count": 13,
   "metadata": {},
   "outputs": [],
   "source": [
    "rt = []\n",
    "for i in kiz:\n",
    "    rt.append(len(i))"
   ]
  },
  {
   "cell_type": "code",
   "execution_count": 21,
   "metadata": {},
   "outputs": [],
   "source": [
    "with open(\"insert_classes_v2.sql\", \"w\") as f:\n",
    "    f.write(rt)"
   ]
  },
  {
   "cell_type": "code",
   "execution_count": 14,
   "metadata": {},
   "outputs": [
    {
     "data": {
      "text/plain": [
       "8"
      ]
     },
     "execution_count": 14,
     "metadata": {},
     "output_type": "execute_result"
    }
   ],
   "source": [
    "max(rt)"
   ]
  },
  {
   "cell_type": "code",
   "execution_count": 15,
   "metadata": {},
   "outputs": [
    {
     "data": {
      "text/plain": [
       "8"
      ]
     },
     "execution_count": 15,
     "metadata": {},
     "output_type": "execute_result"
    }
   ],
   "source": [
    "min(rt)"
   ]
  },
  {
   "cell_type": "code",
   "execution_count": null,
   "metadata": {},
   "outputs": [],
   "source": []
  }
 ],
 "metadata": {
  "kernelspec": {
   "display_name": "Python 3",
   "language": "python",
   "name": "python3"
  },
  "language_info": {
   "codemirror_mode": {
    "name": "ipython",
    "version": 3
   },
   "file_extension": ".py",
   "mimetype": "text/x-python",
   "name": "python",
   "nbconvert_exporter": "python",
   "pygments_lexer": "ipython3",
   "version": "3.7.3"
  }
 },
 "nbformat": 4,
 "nbformat_minor": 4
}
